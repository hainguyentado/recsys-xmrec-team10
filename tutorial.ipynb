{
 "cells": [
  {
   "cell_type": "markdown",
   "id": "ambient-family",
   "metadata": {},
   "source": [
    "## Note\n",
    "In this notebook we will load a trained GMF++ model, and go over the evaluation procedure. The GMF++ is based on simple model introduced by [He et al](https://arxiv.org/abs/1708.05031). You can try to adapt other models such as MLP and NMF. The [original implementation](https://github.com/hexiangnan/neural_collaborative_filtering/tree/4aab159e81c44b062c091bdaed0ab54ac632371f) as well as other implemntations are available for single market settings.     "
   ]
  },
  {
   "cell_type": "code",
   "execution_count": 2,
   "id": "compact-print",
   "metadata": {},
   "outputs": [],
   "source": [
    "import argparse\n",
    "import pandas as pd\n",
    "import torch\n",
    "from torch.autograd import Variable\n",
    "from torch.utils.data import DataLoader, Dataset, ConcatDataset\n",
    "\n",
    "import os\n",
    "import json\n",
    "import resource\n",
    "import sys\n",
    "import pickle\n",
    "\n",
    "sys.path.insert(1, 'src')\n",
    "from model import Model\n",
    "from utils import *\n",
    "from data import *\n",
    "from train_baseline import *"
   ]
  },
  {
   "cell_type": "code",
   "execution_count": 3,
   "id": "aggressive-cement",
   "metadata": {},
   "outputs": [],
   "source": [
    "parser = create_arg_parser()\n",
    "tgt_market = 't1'\n",
    "src_markets = 's1'\n",
    "\n",
    "args = parser.parse_args(f'--tgt_market {tgt_market} --src_markets {src_markets}'.split()) #\n",
    "\n",
    "if torch.cuda.is_available() and args.cuda:\n",
    "    torch.cuda.set_device(0)\n",
    "args.device = torch.device('cuda' if torch.cuda.is_available() and args.cuda else 'cpu')"
   ]
  },
  {
   "cell_type": "code",
   "execution_count": 5,
   "id": "involved-scout",
   "metadata": {},
   "outputs": [
    {
     "name": "stdout",
     "output_type": "stream",
     "text": [
      "Model is GMF++!\n",
      "GMF(\n",
      "  (embedding_user): Embedding(9164, 8)\n",
      "  (embedding_item): Embedding(10341, 8)\n",
      "  (affine_output): Linear(in_features=8, out_features=1, bias=True)\n",
      "  (logistic): Sigmoid()\n",
      ")\n",
      "Pretrained weights from checkpoints/t1_s1_toytest.model are loaded!\n"
     ]
    }
   ],
   "source": [
    "# load pretrained model\n",
    "model_dir = f'checkpoints/{tgt_market}_{src_markets}_toytest.model'\n",
    "id_bank_dir = f'checkpoints/{tgt_market}_{src_markets}_toytest.pickle'\n",
    "\n",
    "valid_run = f'valid_{tgt_market}_{src_markets}_toytest.tsv'\n",
    "\n",
    "with open(id_bank_dir, 'rb') as centralid_file:\n",
    "    my_id_bank = pickle.load(centralid_file)\n",
    "\n",
    "mymodel = Model(args, my_id_bank)\n",
    "mymodel.load(model_dir)"
   ]
  },
  {
   "cell_type": "code",
   "execution_count": 7,
   "id": "modified-aside",
   "metadata": {},
   "outputs": [
    {
     "name": "stdout",
     "output_type": "stream",
     "text": [
      "loading DATA/t1/train.tsv\n",
      "loaded target data!\n",
      "loaded target test and validation data!\n"
     ]
    }
   ],
   "source": [
    "############\n",
    "## Target Market data\n",
    "############\n",
    "tgt_train_data_dir = os.path.join(args.data_dir, args.tgt_market, 'train.tsv')\n",
    "tgt_train_ratings = pd.read_csv(tgt_train_data_dir, sep='\\t')\n",
    "\n",
    "print(f'loading {tgt_train_data_dir}')\n",
    "tgt_task_generator = TaskGenerator(tgt_train_ratings, my_id_bank)\n",
    "print('loaded target data!')\n",
    "\n",
    "tgt_valid_dataloader = tgt_task_generator.instance_a_market_valid_dataloader(args.tgt_market_valid, args.batch_size)\n",
    "tgt_test_dataloader = tgt_task_generator.instance_a_market_valid_dataloader(args.tgt_market_test, args.batch_size)\n",
    "print('loaded target test and validation data!')"
   ]
  },
  {
   "cell_type": "code",
   "execution_count": 8,
   "id": "capable-flooring",
   "metadata": {},
   "outputs": [],
   "source": [
    "valid_run_mf = mymodel.predict(tgt_valid_dataloader)\n",
    "\n",
    "tgt_valid_qrel = read_qrel_file('DATA/t1/valid_qrel.tsv')\n",
    "task_ov, task_ind = get_evaluations_final(valid_run_mf, tgt_valid_qrel)"
   ]
  },
  {
   "cell_type": "code",
   "execution_count": 11,
   "id": "current-choir",
   "metadata": {},
   "outputs": [
    {
     "data": {
      "text/plain": [
       "{'P_5': 0.0668149796069707,\n",
       " 'P_10': 0.047608453837597334,\n",
       " 'P_20': 0.030385613644790505,\n",
       " 'recall_5': 0.3340748980348535,\n",
       " 'recall_10': 0.4760845383759733,\n",
       " 'recall_20': 0.6077122728958102,\n",
       " 'ndcg_cut_10': 0.27169953636762195,\n",
       " 'map_cut_10': 0.20906974827998187}"
      ]
     },
     "execution_count": 11,
     "metadata": {},
     "output_type": "execute_result"
    }
   ],
   "source": [
    "task_ov"
   ]
  },
  {
   "cell_type": "code",
   "execution_count": null,
   "id": "touched-mercury",
   "metadata": {},
   "outputs": [],
   "source": []
  },
  {
   "cell_type": "code",
   "execution_count": null,
   "id": "impaired-madonna",
   "metadata": {},
   "outputs": [],
   "source": []
  },
  {
   "cell_type": "code",
   "execution_count": null,
   "id": "earlier-rapid",
   "metadata": {},
   "outputs": [],
   "source": []
  }
 ],
 "metadata": {
  "kernelspec": {
   "display_name": "py37_transformer3_qbd",
   "language": "python",
   "name": "py37_transformer3_qbd"
  },
  "language_info": {
   "codemirror_mode": {
    "name": "ipython",
    "version": 3
   },
   "file_extension": ".py",
   "mimetype": "text/x-python",
   "name": "python",
   "nbconvert_exporter": "python",
   "pygments_lexer": "ipython3",
   "version": "3.7.9"
  }
 },
 "nbformat": 4,
 "nbformat_minor": 5
}
