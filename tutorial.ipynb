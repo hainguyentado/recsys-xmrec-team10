{
 "cells": [
  {
   "cell_type": "code",
   "execution_count": 2,
   "id": "micro-shaft",
   "metadata": {},
   "outputs": [],
   "source": [
    "import argparse\n",
    "import pandas as pd\n",
    "import torch\n",
    "from torch.autograd import Variable\n",
    "from torch.utils.data import DataLoader, Dataset, ConcatDataset\n",
    "\n",
    "import os\n",
    "import json\n",
    "import resource\n",
    "import sys\n",
    "import pickle\n",
    "\n",
    "sys.path.insert(1, 'src')\n",
    "from model import Model\n",
    "from utils import *\n",
    "from data import *\n",
    "from train_baseline import *"
   ]
  },
  {
   "cell_type": "code",
   "execution_count": 3,
   "id": "southern-glance",
   "metadata": {},
   "outputs": [],
   "source": [
    "parser = create_arg_parser()\n",
    "tgt_market = 't1'\n",
    "src_markets = 's1-s2'\n",
    "\n",
    "args = parser.parse_args(f'--tgt_market {tgt_market} --src_markets {src_markets}'.split()) #\n",
    "\n",
    "if torch.cuda.is_available() and args.cuda:\n",
    "    torch.cuda.set_device(0)\n",
    "args.device = torch.device('cuda' if torch.cuda.is_available() and args.cuda else 'cpu')"
   ]
  },
  {
   "cell_type": "code",
   "execution_count": 4,
   "id": "missing-visit",
   "metadata": {},
   "outputs": [
    {
     "name": "stdout",
     "output_type": "stream",
     "text": [
      "Model is GMF++!\n",
      "GMF(\n",
      "  (embedding_user): Embedding(16273, 8)\n",
      "  (embedding_item): Embedding(11074, 8)\n",
      "  (affine_output): Linear(in_features=8, out_features=1, bias=True)\n",
      "  (logistic): Sigmoid()\n",
      ")\n",
      "Pretrained weights from checkpoints/t1_s1-s2_toytest.model are loaded!\n"
     ]
    }
   ],
   "source": [
    "# load pretrained model\n",
    "model_dir = 'checkpoints/t1_s1-s2_toytest.model'\n",
    "id_bank_dir = 'checkpoints/t1_s1-s2_toytest.pickle'\n",
    "\n",
    "valid_run = 'valid_t1_s1-s2_toytest.tsv'\n",
    "\n",
    "with open(id_bank_dir, 'rb') as centralid_file:\n",
    "    my_id_bank = pickle.load(centralid_file)\n",
    "\n",
    "mymodel = Model(args, my_id_bank)\n",
    "mymodel.load(model_dir)"
   ]
  },
  {
   "cell_type": "code",
   "execution_count": 5,
   "id": "seven-california",
   "metadata": {},
   "outputs": [
    {
     "name": "stdout",
     "output_type": "stream",
     "text": [
      "loading DATA/t1/train.tsv\n",
      "loaded target data!\n"
     ]
    }
   ],
   "source": [
    "############\n",
    "## Target Market data\n",
    "############\n",
    "tgt_train_data_dir = os.path.join(args.data_dir, args.tgt_market, 'train.tsv')\n",
    "tgt_train_ratings = pd.read_csv(tgt_train_data_dir, sep='\\t')\n",
    "\n",
    "print(f'loading {tgt_train_data_dir}')\n",
    "tgt_task_generator = TaskGenerator(tgt_train_ratings, my_id_bank)\n",
    "print('loaded target data!')\n",
    "\n",
    "tgt_valid_dataloader = tgt_task_generator.instance_a_market_valid_dataloader(args.tgt_market_valid, args.batch_size)\n",
    "tgt_test_dataloader = tgt_task_generator.instance_a_market_valid_dataloader(args.tgt_market_test, args.batch_size)"
   ]
  },
  {
   "cell_type": "code",
   "execution_count": null,
   "id": "pregnant-coordination",
   "metadata": {},
   "outputs": [],
   "source": [
    "valid_run_mf = mymodel.predict(tgt_valid_dataloader)"
   ]
  },
  {
   "cell_type": "code",
   "execution_count": null,
   "id": "powered-roman",
   "metadata": {},
   "outputs": [],
   "source": [
    "tgt_valid_qrel = read_qrel_file('DATA/t1/valid_qrel.tsv')\n",
    "task_ov, task_ind = get_evaluations_final(valid_run_mf, tgt_valid_qrel)"
   ]
  },
  {
   "cell_type": "code",
   "execution_count": null,
   "id": "indonesian-cooling",
   "metadata": {},
   "outputs": [],
   "source": [
    "print(task_ov)"
   ]
  },
  {
   "cell_type": "code",
   "execution_count": null,
   "id": "indirect-spray",
   "metadata": {},
   "outputs": [],
   "source": []
  },
  {
   "cell_type": "code",
   "execution_count": null,
   "id": "plastic-plane",
   "metadata": {},
   "outputs": [],
   "source": []
  }
 ],
 "metadata": {
  "kernelspec": {
   "display_name": "py37_transformer3_qbd",
   "language": "python",
   "name": "py37_transformer3_qbd"
  },
  "language_info": {
   "codemirror_mode": {
    "name": "ipython",
    "version": 3
   },
   "file_extension": ".py",
   "mimetype": "text/x-python",
   "name": "python",
   "nbconvert_exporter": "python",
   "pygments_lexer": "ipython3",
   "version": "3.7.9"
  }
 },
 "nbformat": 4,
 "nbformat_minor": 5
}
